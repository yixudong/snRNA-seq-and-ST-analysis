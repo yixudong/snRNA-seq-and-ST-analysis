{
 "cells": [
  {
   "cell_type": "code",
   "execution_count": null,
   "metadata": {},
   "outputs": [],
   "source": [
    "library(Seurat)\n",
    "library(dplyr)\n",
    "library(openxlsx) \n",
    "\n",
    "orig_ident <- sub.myo.sc@meta.data$orig.ident\n",
    "\n",
    "clusters <- sub.myo.sc@active.ident\n",
    "\n",
    "fatty_acid_beta_oxidation_genes <- c(\"SLC27A1\", \"SLC27A2\", \"SLC27A3\", \"SLC27A4\", \"SLC27A5\", \"SLC27A6\",\n",
    "\"CD36\",\n",
    "\"ACSL1\",\"ACSL2\",\"ACSL3\",\"ACSL4\",\"ACSL5\",\"ACSL6\",\n",
    "\"ACSS1\",\"ACSS2\",\"ACSS3\",\n",
    "\"CPT1\",\"CPT1A\",\"CPT1B\",\"CPT1C\",\n",
    "\"SLC25A20\",\n",
    "\"CPT2\",\n",
    "\"ACADM\",\"ACADVL\",\"ACADL\",\"ACADS\",\"ACADSB\",\"ACAD8\",\n",
    "\"ECH1\",\"ECHS1\",\n",
    "\"HADH\",\"HSD17B10\",\"HADHA\",\"HADHB\",\n",
    "\"ACAA1\",\"ACAA2\")\n",
    "\n",
    "existing_genes <- intersect(fatty_acid_beta_oxidation_genes, rownames(sub.myo.sc))\n",
    "\n",
    "gene_expression <- FetchData(sub.myo.sc, vars = existing_genes)\n",
    "\n",
    "expression_data <- cbind(orig_ident = orig_ident, clusters = clusters, gene_expression)\n",
    "\n",
    "expression_data <- as.data.frame(expression_data)\n",
    "\n",
    "colnames(expression_data)[1:2] <- c(\"orig.ident\", \"clusters\")\n",
    "\n",
    "grouped_expression <- expression_data %>%\n",
    "    group_by(orig.ident, clusters) %>%\n",
    "    summarise(across(all_of(existing_genes), median, na.rm = TRUE)) #median/mean\n",
    "\n",
    "write.xlsx(grouped_expression, \"FATP_expression_by_sample_and_cluster.xlsx\", rowNames = TRUE)\n",
    "\n",
    "print(grouped_expression)"
   ]
  }
 ],
 "metadata": {
  "kernelspec": {
   "display_name": "Python 3 (ipykernel)",
   "language": "python",
   "name": "python3"
  },
  "language_info": {
   "codemirror_mode": {
    "name": "ipython",
    "version": 3
   },
   "file_extension": ".py",
   "mimetype": "text/x-python",
   "name": "python",
   "nbconvert_exporter": "python",
   "pygments_lexer": "ipython3",
   "version": "3.11.4"
  }
 },
 "nbformat": 4,
 "nbformat_minor": 4
}
