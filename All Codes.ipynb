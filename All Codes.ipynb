{
 "cells": [
  {
   "cell_type": "markdown",
   "metadata": {},
   "source": [
    "# Data Upstream analysis"
   ]
  },
  {
   "cell_type": "code",
   "execution_count": null,
   "metadata": {},
   "outputs": [],
   "source": [
    "export PATH=/storage/public/home/2008116199/yxd/soft/cellranger/cellranger-7.1.0:$PATH\n",
    "cellranger testrun --id=tiny\n",
    "/storage/public/home/2008116199/yxd/soft/cellranger/cellranger-8.0.1/bin/cellranger testrun --id=tiny"
   ]
  },
  {
   "cell_type": "code",
   "execution_count": null,
   "metadata": {},
   "outputs": [],
   "source": [
    "mkdir ~/yard/run_cellranger_mkfastq\n",
    "cellranger mkgtf Sus_scrofa.Sscrofa11.1.109.gtf Sus_scrofa.Sscrofa11.1.109.filtered.gtf --attribute=key:allowable_value\n",
    "cellranger mkref --genome=Sus_scrofa \n",
    "--fasta=/home/yixudong/REF/Sus_scrofa.Sscrofa11.1.dna.toplevel.fa \n",
    "--genes=/home/yixudong/REF/cellranger/Sus_scrofa.Sscrofa11.1.109.chr.filtered.gtf\n",
    "cellranger mkref --genome=Danio.rerio_genome --fasta=Danio_rerio.GRCz11.dna.primary_assembly.fa \\\n",
    "  --genes=Danio_rerio.GRCz11.105.filtered.gtf"
   ]
  },
  {
   "cell_type": "code",
   "execution_count": null,
   "metadata": {},
   "outputs": [],
   "source": [
    "cellranger count --id=run_count_SOL --fastqs=/home/yixudong/sn/SOL --sample=SOL-1,SOL-2,SOL-3,SOL-4,SOL-5 --transcriptome=/home/yixudong/sn/SOL/Sus_scrofa\n",
    "cellranger count --id=run_count_EDL --fastqs=/home/yixudong/sn/EDL --sample=EDL-1,EDL-2,EDL-3,EDL-4,EDL-5 --transcriptome=/home/yixudong/sn/SOL/Sus_scrofa\n",
    "cellranger count --id=run_count_LD --fastqs=/home/yixudong/sn/LD --sample=LD-1,LD-2,LD-3 --transcriptome=/home/yixudong/sn/SOL/Sus_scrofa"
   ]
  },
  {
   "cell_type": "code",
   "execution_count": null,
   "metadata": {},
   "outputs": [],
   "source": []
  },
  {
   "cell_type": "code",
   "execution_count": null,
   "metadata": {},
   "outputs": [],
   "source": []
  },
  {
   "cell_type": "code",
   "execution_count": null,
   "metadata": {},
   "outputs": [],
   "source": []
  },
  {
   "cell_type": "code",
   "execution_count": null,
   "metadata": {},
   "outputs": [],
   "source": []
  },
  {
   "cell_type": "code",
   "execution_count": null,
   "metadata": {},
   "outputs": [],
   "source": []
  },
  {
   "cell_type": "code",
   "execution_count": null,
   "metadata": {},
   "outputs": [],
   "source": []
  }
 ],
 "metadata": {
  "language_info": {
   "name": "python"
  }
 },
 "nbformat": 4,
 "nbformat_minor": 2
}
