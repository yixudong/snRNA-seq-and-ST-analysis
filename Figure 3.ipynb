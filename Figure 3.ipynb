{
 "cells": [
  {
   "cell_type": "markdown",
   "metadata": {},
   "source": [
    "## 3.1 identification"
   ]
  },
  {
   "cell_type": "code",
   "execution_count": null,
   "metadata": {},
   "outputs": [],
   "source": [
    "library(Seurat)\n",
    "library(SeuratData)\n",
    "library(ggplot2)\n",
    "library(patchwork)\n",
    "library(dplyr)\n",
    "library(psych)\n",
    "library(pheatmap)\n",
    "\n",
    "sub.myo.sc <- subset(MuScle.list.Sc, idents = c(\"Type 2b myofibers\",\"Type I myofibers\",\"Type 2x myofibers\",\"QSCs-1\",\"Type 2a myofibers\",\"Type 2a/x myofibers\",\"QSCs-2\",\"PSCs\"))\n",
    "VlnPlot(sub.myo.sc, features = c(\"nFeature_RNA\", \"nCount_RNA\", \"percent.mt\"), ncol = 3)\n",
    "sub.myo.sc <- NormalizeData(sub.myo.sc, normalization.method = \"LogNormalize\", scale.factor = 10000)\n",
    "FindVariableFeatures(sub.myo.sc, selection.method = \"vst\", nfeatures = 3000)\n",
    "all.genes <- rownames(sub.myo.sc)\n",
    "sub.myo.sc <- ScaleData(sub.myo.sc, features = all.genes)\n",
    "sub.myo.sc <- RunPCA(sub.myo.sc, features = VariableFeatures(object = sub.myo.sc)) \n",
    "sub.myo.sc <- FindNeighbors(sub.myo.sc, dims = 1:5)\n",
    "sub.myo.sc <- FindClusters(sub.myo.sc, resolution = 0.3)\n",
    "sub.myo.sc <- RunUMAP(sub.myo.sc, dims = 1:5)\n",
    "DimPlot(sub.myo.sc, reduction = \"umap\",cols=my36colors)"
   ]
  },
  {
   "cell_type": "markdown",
   "metadata": {},
   "source": [
    "## 3.2 Count"
   ]
  },
  {
   "cell_type": "code",
   "execution_count": null,
   "metadata": {},
   "outputs": [],
   "source": [
    "import matplotlib.pyplot as plt\n",
    "import numpy as np\n",
    "\n",
    "cell_types = ['Type1', 'Type2', 'Type3', 'Type4', 'Type5', 'Type6', 'Type7', 'Type8', 'Type9']\n",
    "percentages = [32.35, 0.32, 1.55, 0, 21.51, 14.20, 17.94, 6.28, 5.80]  # Sample percentages\n",
    "\n",
    "num_vars = len(cell_types)\n",
    "\n",
    "angles = np.linspace(0, 2 * np.pi, num_vars, endpoint=False).tolist()\n",
    "\n",
    "percentages += percentages[:1]\n",
    "angles += angles[:1]\n",
    "\n",
    "fig, ax = plt.subplots(figsize=(6, 6), subplot_kw=dict(polar=True))\n",
    "ax.fill(angles, percentages, color='red', alpha=0.25)\n",
    "ax.plot(angles, percentages, color='red', linewidth=2)  # Change color to red\n",
    "\n",
    "ax.set_theta_offset(np.pi / 2)\n",
    "ax.set_theta_direction(-1)\n",
    "\n",
    "ax.set_rscale('log')\n",
    "ax.set_rticks([10, 20, 40, 60, 80, 100])  # Less radial ticks\n",
    "ax.set_rlabel_position(0)\n",
    "\n",
    "ax.set_xticks(angles[:-1])\n",
    "ax.set_xticklabels(cell_types)\n",
    "\n",
    "ax.set_title('EDL Cell Type Proportions', y=1.08)\n",
    "plt.show()"
   ]
  },
  {
   "cell_type": "markdown",
   "metadata": {},
   "source": [
    "## 3.3 ClusterGVis"
   ]
  },
  {
   "cell_type": "code",
   "execution_count": null,
   "metadata": {},
   "outputs": [],
   "source": [
    "library(ClusterGVis)\n",
    "library(org.Hs.eg.db)\n",
    "library(Seurat)\n",
    "new.cluster.ids <- c(\"Type 2x myofibers\", \"Type 2x/2b myofibers\", \"Type 1 myofibers\", \"Type 2b myofibers\", \"Type 1/2a myofibers\", \"Type 2a/x myofibers\",\"MuSCs\", \"Type 2a myofibers\", \"Myoblasts\")\n",
    "names(new.cluster.ids) <- levels(pbmc)\n",
    "pbmc <- RenameIdents(pbmc, new.cluster.ids)\n",
    "\n",
    "pbmc.markers.all <- Seurat::FindAllMarkers(pbmc,\n",
    "                               only.pos = TRUE,\n",
    "                               min.pct = 0.25,\n",
    "                               logfc.threshold = 0.25)\n",
    "\n",
    "indices_to_remove <- grep(\"ENSSSCG\", pbmc.markers.all$gene)\n",
    "pbmc.markers.all <- pbmc.markers.all[-indices_to_remove, ]\n",
    "\n",
    "pbmc.markers <- pbmc.markers.all %>%\n",
    "  dplyr::group_by(cluster) %>%\n",
    "  dplyr::top_n(n = 20, wt = avg_log2FC)\n",
    "\n",
    "st.data <- prepareDataFromscRNA(object = pbmc,\n",
    "                                diffData = pbmc.markers,\n",
    "                                showAverage = TRUE)\n",
    "str(st.data)\n",
    "\n",
    "enrich_KEGG <- enrichCluster(object = st.data,\n",
    "                        OrgDb = org.Hs.eg.db,\n",
    "                        type = \"KEGG\",\n",
    "                        organism = \"hsa\",\n",
    "                        pvalueCutoff = 0.5,\n",
    "                        topn = 5,\n",
    "                        seed = 5201314)\n",
    "\n",
    "markGenes = unique(pbmc.markers$gene)[sample(1:length(unique(pbmc.markers$gene)),40,\n",
    "                                             replace = F)]\n",
    "\n",
    "desired_order <- c(\"MuSCs\", \"Myoblasts\", \"Type 1 myofibers\", \"Type 1/2a myofibers\", \"Type 2a myofibers\", \"Type 2a/x myofibers\", \"Type 2x myofibers\", \"Type 2x/2b myofibers\", \"Type 2b myofibers\")  # specify your desired order\n",
    "st.data$long.res$cell_type <- factor(st.data$long.res$cell_type, levels = desired_order)\n",
    "cluster_order <- c(\"cluster 7 (20)\", \"cluster 9 (17)\", \"cluster 3 (20)\", \"cluster 5 (12)\", \"cluster 8 (20)\", \"cluster 6 (20)\", \"cluster 1 (20)\", \"cluster 2 (19)\", \"cluster 4 (12)\")  # Example: update with your actual cluster names and order\n",
    "st.data$long.res$cluster_name <- factor(st.data$long.res$cluster_name, levels = cluster_order)\n",
    "visCluster(object = st.data, plot.type = \"line\")"
   ]
  },
  {
   "cell_type": "markdown",
   "metadata": {},
   "source": [
    "For the pseudotime inference, RNA velocity analysis, and transcription factor mining sections, we did not generate any new code."
   ]
  },
  {
   "cell_type": "code",
   "execution_count": null,
   "metadata": {},
   "outputs": [],
   "source": []
  },
  {
   "cell_type": "code",
   "execution_count": null,
   "metadata": {},
   "outputs": [],
   "source": []
  },
  {
   "cell_type": "code",
   "execution_count": null,
   "metadata": {},
   "outputs": [],
   "source": []
  },
  {
   "cell_type": "code",
   "execution_count": null,
   "metadata": {},
   "outputs": [],
   "source": []
  },
  {
   "cell_type": "code",
   "execution_count": null,
   "metadata": {},
   "outputs": [],
   "source": []
  }
 ],
 "metadata": {
  "kernelspec": {
   "display_name": "Python 3 (ipykernel)",
   "language": "python",
   "name": "python3"
  },
  "language_info": {
   "codemirror_mode": {
    "name": "ipython",
    "version": 3
   },
   "file_extension": ".py",
   "mimetype": "text/x-python",
   "name": "python",
   "nbconvert_exporter": "python",
   "pygments_lexer": "ipython3",
   "version": "3.11.4"
  }
 },
 "nbformat": 4,
 "nbformat_minor": 4
}
